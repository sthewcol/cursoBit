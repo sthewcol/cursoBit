{
 "cells": [
  {
   "cell_type": "markdown",
   "metadata": {},
   "source": [
    "# FUNCIONES\n"
   ]
  },
  {
   "cell_type": "markdown",
   "metadata": {},
   "source": [
    "- Son un bloque de codigo o instrucciones el cual se ejecuta por su nombre y argumentos declarados.\n",
    "- Una funcion puede contener desde 0 hasta ∞ argumentos, los cuales son operados dentro de la funcion"
   ]
  },
  {
   "cell_type": "markdown",
   "metadata": {},
   "source": [
    "# SENTENCIA DE CREACION\n",
    "- el primer paso es declarar la funcion con la instruccion \"def\" seguido del nombre de la funcion \"NombreFuncion\" y se declaran los argumentos que esta recibira \"(arg1,arg2,arg3)\"\n",
    "- se finaliza la sentencia de creacion con \":\""
   ]
  },
  {
   "cell_type": "markdown",
   "metadata": {},
   "source": [
    "# BLOQUE DE CODIGO O INSTRUCCIONES\n",
    "- se debe seguir la reglade identacion\n",
    "- puede o no tener un retorno (resultado almacenable en variable como resultado de la operacion interna de la funcion)"
   ]
  },
  {
   "cell_type": "markdown",
   "metadata": {},
   "source": [
    "# Ejemplo\n",
    "- la siguiente funcion recibira dos numeros los cuales seran operables por medio de una suma y retornara el resultado\n",
    "- se crean dos funciones con la misma operacion interna pero una retornara el resultado, y la otra solamente lo imprimira directamene\n",
    "- la diferencia radica en como se utiliza el resultado de la funcion, en SumaConRetorno, no podremos imprimir el resultado solo llamando la funcion, y sera necesario utilizar print y si se requiere una asignacion a una variable que almacene el resultado de la funcion; en SumaSinRetorno, automaticamente genera un print internamente, lo que no permitira operar o almacenar el resultado de la funcion\n",
    "- finalmente se llama la funcion por su nombre y enviando los parametros estabecidos"
   ]
  },
  {
   "cell_type": "code",
   "execution_count": 9,
   "metadata": {},
   "outputs": [
    {
     "name": "stdout",
     "output_type": "stream",
     "text": [
      "5\n",
      "*********\n",
      "5\n"
     ]
    }
   ],
   "source": [
    "def SumaConRetorno(num1,num2):\n",
    "    result = num1 + num2\n",
    "    return(result)\n",
    "\n",
    "def SumaSinRetorno(num1,num2):\n",
    "    result = num1 + num2\n",
    "    print(result)\n",
    "    \n",
    "a=SumaConRetorno(2,3)\n",
    "print(a)\n",
    "print(\"*********\")\n",
    "SumaSinRetorno(2,3)"
   ]
  },
  {
   "cell_type": "markdown",
   "metadata": {},
   "source": []
  },
  {
   "cell_type": "code",
   "execution_count": 7,
   "metadata": {},
   "outputs": [
    {
     "name": "stdout",
     "output_type": "stream",
     "text": [
      "6\n"
     ]
    }
   ],
   "source": []
  },
  {
   "cell_type": "code",
   "execution_count": null,
   "metadata": {},
   "outputs": [],
   "source": []
  }
 ],
 "metadata": {
  "kernelspec": {
   "display_name": "Python 3",
   "language": "python",
   "name": "python3"
  },
  "language_info": {
   "codemirror_mode": {
    "name": "ipython",
    "version": 3
   },
   "file_extension": ".py",
   "mimetype": "text/x-python",
   "name": "python",
   "nbconvert_exporter": "python",
   "pygments_lexer": "ipython3",
   "version": "3.7.6"
  }
 },
 "nbformat": 4,
 "nbformat_minor": 4
}
