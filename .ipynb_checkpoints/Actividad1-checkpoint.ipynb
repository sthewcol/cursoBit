{
 "cells": [
  {
   "cell_type": "markdown",
   "metadata": {},
   "source": [
    "# Actividad 1\n"
   ]
  },
  {
   "cell_type": "markdown",
   "metadata": {},
   "source": [
    "## 1. Tipos de datos:\n",
    "\n",
    "Para las siguientes palabras:"
   ]
  },
  {
   "cell_type": "code",
   "execution_count": 1,
   "metadata": {},
   "outputs": [],
   "source": [
    "nombres=['Ana','Franciso','Pedro']\n"
   ]
  },
  {
   "cell_type": "markdown",
   "metadata": {},
   "source": [
    "Escriba un for que imprima la última letra de cada nombre"
   ]
  },
  {
   "cell_type": "code",
   "execution_count": 1,
   "metadata": {},
   "outputs": [
    {
     "name": "stdout",
     "output_type": "stream",
     "text": [
      "a\n",
      "o\n",
      "o\n"
     ]
    }
   ],
   "source": [
    "nombres = [\"Ana\", \"Francisco\", \"Pedro\"]\n",
    "\n",
    "def letra(nombre):\n",
    "    print(nombre[-1])\n",
    "    \n",
    "\n",
    "for i in nombres:\n",
    "    letra(i)"
   ]
  },
  {
   "cell_type": "markdown",
   "metadata": {},
   "source": [
    "## 2. Escriba una función para obtener (sin utilizar la función max o alguna función prediseñada)el valor máximo de la siguiente lista de los elementos que sean int o float"
   ]
  },
  {
   "cell_type": "code",
   "execution_count": 2,
   "metadata": {},
   "outputs": [
    {
     "name": "stdout",
     "output_type": "stream",
     "text": [
      "el numero mayor de la lista es:  10000\n"
     ]
    }
   ],
   "source": [
    "lista=[423,1255,6134.0,4223.5,\"10000\"]\n",
    "\n",
    "\n",
    "def convertir (dato):\n",
    "    num=0\n",
    "    if type(dato) in (int, float):\n",
    "        \n",
    "        num=dato\n",
    "    else:\n",
    "        if \".\" in dato:\n",
    "            num=float(dato)\n",
    "        else:\n",
    "            num=int(dato)\n",
    "    return num        \n",
    "        \n",
    "numero=0\n",
    "\n",
    "for i in range(len(lista)):\n",
    "    if(convertir(lista[i])>numero):\n",
    "        numero=lista[i]\n",
    "        \n",
    "print(\"el numero mayor de la lista es: \", numero)"
   ]
  },
  {
   "cell_type": "markdown",
   "metadata": {},
   "source": [
    "## 3. Escriba un código que guarde en un diccionario la frecuencia con la que sale cada letra en el siguiente texto"
   ]
  },
  {
   "cell_type": "code",
   "execution_count": 3,
   "metadata": {},
   "outputs": [
    {
     "name": "stdout",
     "output_type": "stream",
     "text": [
      "{'h': 1, 'o': 6, 'l': 3, 'a': 4, ' ': 13, 'm': 2, 'i': 2, 'n': 1, 'b': 1, 'r': 5, 'e': 8, 's': 5, 'D': 1, 'v': 1, 'd': 3, 'y': 2, 'p': 2, 'f': 1, 't': 2, 'c': 1, 'u': 1}\n"
     ]
    }
   ],
   "source": [
    "texto='hola mi nombre es David y soy el profesor de esta parte del curso'\n",
    "\n",
    "dict_={}\n",
    "for i in texto:\n",
    "    if i in dict_.keys():\n",
    "        dict_[i]+=1\n",
    "    else:\n",
    "        dict_[i]=1\n",
    "\n",
    "print(dict_)\n"
   ]
  },
  {
   "cell_type": "markdown",
   "metadata": {},
   "source": [
    "## 4. Cree un programa que recorra los las llaves y los elementos del diccionario anterior y los guarde como tuplas en una lista."
   ]
  },
  {
   "cell_type": "code",
   "execution_count": 67,
   "metadata": {},
   "outputs": [
    {
     "name": "stdout",
     "output_type": "stream",
     "text": [
      "[('h', 1), ('o', 6), ('l', 3), ('a', 4), (' ', 13), ('m', 2), ('i', 2), ('n', 1), ('b', 1), ('r', 5), ('e', 8), ('s', 5), ('D', 1), ('v', 1), ('d', 3), ('y', 2), ('p', 2), ('f', 1), ('t', 2), ('c', 1), ('u', 1)]\n"
     ]
    }
   ],
   "source": [
    "lista=[]\n",
    "\n",
    "for letra in dict_.items():\n",
    "\n",
    "    lista.append(letra) \n",
    "\n",
    "print(lista)"
   ]
  },
  {
   "cell_type": "markdown",
   "metadata": {},
   "source": [
    "## 5. Cree un código en python que revierta el orden de las siguientes listas únicamente si empiezan en minúsculas"
   ]
  },
  {
   "cell_type": "code",
   "execution_count": 16,
   "metadata": {},
   "outputs": [],
   "source": [
    "l1=['hola','Hi','Hello','Halo','Da','svidanya','spasiva']"
   ]
  },
  {
   "cell_type": "code",
   "execution_count": 49,
   "metadata": {},
   "outputs": [
    {
     "name": "stdout",
     "output_type": "stream",
     "text": [
      "['aloh', 'Hi', 'Hello', 'Halo', 'Da', 'aynadivs', 'avisaps']\n"
     ]
    }
   ],
   "source": [
    "\n",
    "for palabra in range(len(l1)):\n",
    "    a=l1[palabra]\n",
    "    for letra in a[0]:\n",
    "        if(letra.isupper()==True):\n",
    "            pass\n",
    "        else:\n",
    "            l1[palabra]=a[::-1]          \n",
    "            \n",
    "print(l1)\n",
    "           \n",
    "    \n",
    "            "
   ]
  },
  {
   "cell_type": "markdown",
   "metadata": {},
   "source": [
    "## 6. Haga un programa que ordene de manera descendente los elementos de un diccionario en una lista donde sus elementos sean tuplas."
   ]
  },
  {
   "cell_type": "code",
   "execution_count": 85,
   "metadata": {},
   "outputs": [
    {
     "name": "stdout",
     "output_type": "stream",
     "text": [
      "[(5, 5), (4, 4), (3, 3), (2, 2), (1, 1), (0, 0)]\n"
     ]
    }
   ],
   "source": [
    "d1={0:0,1:1,2:2,3:3,4:4,5:5}\n",
    "\n",
    "lista=[]\n",
    "\n",
    "for letra in d1.items():\n",
    "\n",
    "    lista.append(letra) \n",
    "\n",
    "for i in range(len(lista)):\n",
    " \n",
    "    for j in range(len(lista)-1,i,-1):\n",
    "              \n",
    "        if lista[j]>lista[j-1]:\n",
    "            lista[j-1],lista[j]=lista[j],lista[j-1]\n",
    "            \n",
    "print(lista)\n",
    "\n"
   ]
  },
  {
   "cell_type": "markdown",
   "metadata": {},
   "source": [
    "En esta actividad deberá:\n",
    "\n",
    "## 7. [Reto] Utilice ciclos, ifs, funciones y funciones de listas para:\n",
    "\n",
    "- Imprimir todas las veces que ALGÚN CARACTER que defina el usuario como parámetro, se encuentre en la siguiente lista:\n",
    "\n",
    "- Nota: Puede utilizar try y except pero no completamente es necesario.\n"
   ]
  },
  {
   "cell_type": "code",
   "execution_count": 3,
   "metadata": {},
   "outputs": [
    {
     "name": "stdout",
     "output_type": "stream",
     "text": [
      "2\n"
     ]
    }
   ],
   "source": [
    "lista=[['Angel es una persona.','El solia utilizar sus palabras como '\\\n",
    "        ,'un arma'],[66341,1445,65624,\\\n",
    "                     [['ihHolsiSHCir sD',['H','Ha'],'sdf']],[145,124545,\\\n",
    "                                          \"Bislaoq\",\"FGASCsdfq\"],[\"A\",[\"B\"],\"c\",\"d\"]],1,3,5,6,\"123\"]\n",
    "\n",
    "param=\"a\"\n",
    "listtempo=[]\n",
    "\n",
    "\n",
    "def fun(l,lt):\n",
    "    types1=(int,float)\n",
    "    for i in l:\n",
    "        if(type(i) in types1):\n",
    "            lt.append(i)\n",
    "        elif(type(i)==str):\n",
    "            if(\" \" in i):\n",
    "                for j in i:\n",
    "                    lt.append(j)\n",
    "            else:\n",
    "                lt.append(i)\n",
    "        else:\n",
    "            fun(i,lt)\n",
    "\n",
    "  \n",
    "\n",
    "            \n",
    "fun(lista,listtempo)\n",
    "\n",
    "def bus(lista,caracter):\n",
    "    contador=0\n",
    "    for i in lista:\n",
    "        if i == caracter:\n",
    "            contador+=1\n",
    "    return contador\n",
    "        \n",
    "        \n",
    "print (bus(listtempo,\"A\"))\n",
    "    \n",
    "        \n",
    "\n",
    "\n",
    "            \n",
    "\n",
    "\n",
    "\n",
    "\n"
   ]
  },
  {
   "cell_type": "code",
   "execution_count": null,
   "metadata": {},
   "outputs": [],
   "source": []
  },
  {
   "cell_type": "markdown",
   "metadata": {},
   "source": [
    "## 8. [Reto 2] Realice un algoritmo que pueda ordenar listas. El código debe ser una función que reciba una lista y devuelva una lista ordenada."
   ]
  },
  {
   "cell_type": "code",
   "execution_count": null,
   "metadata": {},
   "outputs": [],
   "source": [
    "\n",
    "    \n",
    "    "
   ]
  },
  {
   "cell_type": "code",
   "execution_count": null,
   "metadata": {},
   "outputs": [],
   "source": [
    "\n",
    "\n",
    "\n",
    "\n"
   ]
  },
  {
   "cell_type": "code",
   "execution_count": null,
   "metadata": {},
   "outputs": [],
   "source": []
  }
 ],
 "metadata": {
  "kernelspec": {
   "display_name": "Python 3",
   "language": "python",
   "name": "python3"
  },
  "language_info": {
   "codemirror_mode": {
    "name": "ipython",
    "version": 3
   },
   "file_extension": ".py",
   "mimetype": "text/x-python",
   "name": "python",
   "nbconvert_exporter": "python",
   "pygments_lexer": "ipython3",
   "version": "3.7.6"
  }
 },
 "nbformat": 4,
 "nbformat_minor": 4
}
